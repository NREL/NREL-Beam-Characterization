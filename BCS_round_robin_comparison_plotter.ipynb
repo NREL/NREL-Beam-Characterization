{
 "cells": [
  {
   "cell_type": "code",
   "execution_count": 1,
   "metadata": {},
   "outputs": [
    {
     "name": "stderr",
     "output_type": "stream",
     "text": [
      "C:\\Users\\qzheng\\AppData\\Local\\Temp\\1\\ipykernel_23740\\452284005.py:30: FutureWarning: The behavior of DataFrame concatenation with empty or all-NA entries is deprecated. In a future version, this will no longer exclude empty or all-NA columns when determining the result dtypes. To retain the old behavior, exclude the relevant entries before the concat operation.\n",
      "  to_save_df = pd.concat([to_save_df, numbers_of_interest], ignore_index=True)\n"
     ]
    }
   ],
   "source": [
    "import numpy as np\n",
    "import matplotlib.pyplot as plt\n",
    "import os\n",
    "import pandas as pd\n",
    "\n",
    "bcs_keyword = ['energy_90', 'energy_60', 'yen']\n",
    "detection_method = [\"centroid\", \"max_flux\"]\n",
    "analyze_target = [ \"Full_image\"]  # AOI or Full_image\n",
    "\n",
    "\n",
    "\n",
    "def generate_summary_csv_for_image(img_number):\n",
    "    \n",
    "    entry_columns = [\"Processing Source\", \"Beam Center X (px)\", \"Beam Center Y (px)\", \"Beam Center X (m)\", \"Beam Center Y (m)\", \"Beam Center Z (m)\",\n",
    "                     \"Target Center X (px)\", \"Target Center Y (px)\", \"Target Center X (m)\", \"Target Center Y (m)\", \"Target Center Z (m)\",\n",
    "                     \"Tracking Error Elevation Only (mrad)\", \"Tracking Error Azimuth Only (mrad)\"]\n",
    "    to_save_df = pd.DataFrame(columns=entry_columns)\n",
    "    for k in bcs_keyword:\n",
    "        for m in detection_method:\n",
    "            for t in analyze_target:\n",
    "                file_name = f\"{m}_{t}_{k}.csv\"\n",
    "                file_path = os.path.join(\"results\", file_name)\n",
    "                file_df = pd.read_csv(file_path)\n",
    "                numbers_of_interest = file_df.loc[0, entry_columns[1:]]\n",
    "                processing_source = f\"{m}_{t}_{k}\"\n",
    "                numbers_of_interest[entry_columns[0]] = processing_source\n",
    "                numbers_of_interest = pd.DataFrame([numbers_of_interest.to_dict()], columns=entry_columns)\n",
    "\n",
    "                \n",
    "                to_save_df = pd.concat([to_save_df, numbers_of_interest], ignore_index=True)\n",
    "\n",
    "    saving_file_name = os.path.join(\"results\", f\"BCS_RR_on_timestamp_1.csv\")\n",
    "    to_save_df.to_csv(saving_file_name, index=False)\n",
    "\n",
    "\n",
    "\n",
    "\n",
    "generate_summary_csv_for_image(0)\n",
    "\n",
    "\n"
   ]
  }
 ],
 "metadata": {
  "kernelspec": {
   "display_name": "base",
   "language": "python",
   "name": "python3"
  },
  "language_info": {
   "codemirror_mode": {
    "name": "ipython",
    "version": 3
   },
   "file_extension": ".py",
   "mimetype": "text/x-python",
   "name": "python",
   "nbconvert_exporter": "python",
   "pygments_lexer": "ipython3",
   "version": "3.12.7"
  }
 },
 "nbformat": 4,
 "nbformat_minor": 2
}
